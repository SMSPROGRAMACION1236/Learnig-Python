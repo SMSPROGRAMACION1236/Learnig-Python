{
 "cells": [
  {
   "cell_type": "markdown",
   "metadata": {},
   "source": [
    "# Exercise 1"
   ]
  },
  {
   "cell_type": "markdown",
   "metadata": {},
   "source": []
  },
  {
   "cell_type": "markdown",
   "metadata": {},
   "source": [
    "### Definición de una Clase y Creación de un Objeto:\n",
    "Crea una clase llamada “Persona” con atributos como nombre, edad y profesion.\n",
    "Luego, instancia un objeto de la clase “Persona” con tus propios valores para los atributos."
   ]
  },
  {
   "cell_type": "code",
   "execution_count": 1,
   "metadata": {},
   "outputs": [
    {
     "name": "stdout",
     "output_type": "stream",
     "text": [
      "My name is: Maria with 25 years old, my profession is: Teacher\n"
     ]
    }
   ],
   "source": [
    "class Person:\n",
    "  def __init__(self, name, age, profession) -> None:\n",
    "    self.name = name\n",
    "    self.age  = age\n",
    "    self.profession = profession\n",
    "  def greeting(self):\n",
    "    print(f\"My name is: {self.name} with {self.age} years old, my profession is: {self.profession}\")\n",
    "    \n",
    "maria = Person(\"Maria\",  25, \"Teacher\")\n",
    "maria.greeting()"
   ]
  },
  {
   "cell_type": "markdown",
   "metadata": {},
   "source": [
    "# Exercise 2"
   ]
  },
  {
   "cell_type": "markdown",
   "metadata": {},
   "source": [
    "### Agregando Atributos a una Clase:\n",
    "Amplía la clase “Persona” para incluir un atributo adicional, como direccion.\n",
    "Crea una nueva instancia de “Persona” con la dirección de tu elección."
   ]
  },
  {
   "cell_type": "code",
   "execution_count": 2,
   "metadata": {},
   "outputs": [
    {
     "name": "stdout",
     "output_type": "stream",
     "text": [
      "My name is: Maria with 25 years old, my profession is: Teacher and I live in: 1000 Avenue\n"
     ]
    }
   ],
   "source": [
    "class Person:\n",
    "  def __init__(self, name, age, profession, address) -> None:\n",
    "    self.name = name\n",
    "    self.age  = age\n",
    "    self.profession = profession\n",
    "    self.adress = address\n",
    "  def greeting(self):\n",
    "    print(f\"My name is: {self.name} with {self.age} years old, my profession is: {self.profession} and I live in: {self.adress}\")\n",
    "    \n",
    "maria = Person(\"Maria\",  25, \"Teacher\",  \"1000 Avenue\")\n",
    "maria.greeting()"
   ]
  },
  {
   "cell_type": "markdown",
   "metadata": {},
   "source": [
    "# Exercise 3"
   ]
  },
  {
   "cell_type": "markdown",
   "metadata": {},
   "source": [
    "### Clase “Estudiante”:\n",
    "Crea una clase llamada “Estudiante” con los siguientes atributos:\n",
    "- nombre\n",
    "- edad\n",
    "- \n",
    "- carrera\n",
    "- promedio\n",
    "\n",
    "Implementa un método llamado mostrar_informacion() que imprima los detalles del estudiante.\n",
    "Crea al menos dos instancias de la clase “Estudiante” con diferentes valores para los atributos."
   ]
  },
  {
   "cell_type": "code",
   "execution_count": 3,
   "metadata": {},
   "outputs": [
    {
     "name": "stdout",
     "output_type": "stream",
     "text": [
      "My name  is : Peter,  I'm 15 years old, i chose the career of: Medicine and my average is: 10\n",
      "My name  is : Caroline,  I'm 16 years old, i chose the career of: Architect and my average is: 9.8\n"
     ]
    }
   ],
   "source": [
    "class Student:\n",
    "  def __init__(self, name, age, career,average):\n",
    "    self.name = name\n",
    "    self.age  = age\n",
    "    self.career  = career\n",
    "    self.average =  average\n",
    "  def show_information(self):\n",
    "    print(f\"My name  is : {self.name},  I'm {self.age} years old, i chose the career of: {self.career} and my average is: {self.average}\")\n",
    "peter = Student(\"Peter\", 15, \"Medicine\", 10)\n",
    "caroline = Student(\"Caroline\", 16, \"Architect\", 9.8)\n",
    "\n",
    "peter.show_information()\n",
    "caroline.show_information()\n",
    "\n"
   ]
  },
  {
   "cell_type": "markdown",
   "metadata": {},
   "source": [
    "# Exercise 4"
   ]
  },
  {
   "cell_type": "markdown",
   "metadata": {},
   "source": [
    "### Clase “Libro”:\n",
    "Define una clase llamada “Libro” con los siguientes atributos:\n",
    "- titulo\n",
    "- autor\n",
    "- genero\n",
    "- anio_publicacion\n",
    "  \n",
    "Crea un método llamado detalles() que muestre la información completa del libro.\n",
    "Crea dos objetos de la clase “Libro” con diferentes valores."
   ]
  },
  {
   "cell_type": "code",
   "execution_count": 5,
   "metadata": {},
   "outputs": [
    {
     "name": "stdout",
     "output_type": "stream",
     "text": [
      "This Horror book is: Carry, that was publicated by Stephen King in 14 de abril de 1995\n"
     ]
    }
   ],
   "source": [
    "class Book:\n",
    "  def  __init__(self, title, author, gender, publication_date) -> None:\n",
    "    self.title = title\n",
    "    self.author = author\n",
    "    self.gender = gender\n",
    "    self.publication_date = publication_date\n",
    "  def details(self):\n",
    "    return f\"This {self.gender} book is: {self.title}, that was publicated by {self.author} in {self.publication_date}\"\n",
    "  \n",
    "carry = Book(\"Carry\", \"Stephen King\", \"Horror\", \"14 de abril de 1995\")\n",
    "print(carry.details())"
   ]
  },
  {
   "cell_type": "markdown",
   "metadata": {},
   "source": [
    "# Exercise 5\n"
   ]
  },
  {
   "cell_type": "markdown",
   "metadata": {},
   "source": [
    "###  Clase “Cuenta Bancaria”:\n",
    "- Crea una clase llamada “CuentaBancaria” con los siguientes          atributos:\n",
    "  - titular\n",
    "  - saldo\n",
    "  - numero_cuenta\n",
    "- Implementa métodos para:\n",
    "  - Depositar dinero en la cuenta.\n",
    "  - Retirar dinero de la cuenta.\n",
    "  - Mostrar el saldo actual.\n",
    "- Crea una instancia de la clase “CuentaBancaria” y realiza algunas operaciones."
   ]
  },
  {
   "cell_type": "code",
   "execution_count": null,
   "metadata": {},
   "outputs": [],
   "source": []
  }
 ],
 "metadata": {
  "kernelspec": {
   "display_name": "Python 3",
   "language": "python",
   "name": "python3"
  },
  "language_info": {
   "codemirror_mode": {
    "name": "ipython",
    "version": 3
   },
   "file_extension": ".py",
   "mimetype": "text/x-python",
   "name": "python",
   "nbconvert_exporter": "python",
   "pygments_lexer": "ipython3",
   "version": "3.11.7"
  }
 },
 "nbformat": 4,
 "nbformat_minor": 2
}
